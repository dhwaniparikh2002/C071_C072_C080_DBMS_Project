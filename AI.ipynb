{
  "nbformat": 4,
  "nbformat_minor": 0,
  "metadata": {
    "colab": {
      "name": "AI.ipynb",
      "provenance": [],
      "authorship_tag": "ABX9TyPjC6r8mu6a5vKJBrsCzwYl",
      "include_colab_link": true
    },
    "kernelspec": {
      "name": "python3",
      "display_name": "Python 3"
    },
    "language_info": {
      "name": "python"
    }
  },
  "cells": [
    {
      "cell_type": "markdown",
      "metadata": {
        "id": "view-in-github",
        "colab_type": "text"
      },
      "source": [
        "<a href=\"https://colab.research.google.com/github/dhwaniparikh2002/C071_C072_C080_DBMS_Project/blob/main/AI.ipynb\" target=\"_parent\"><img src=\"https://colab.research.google.com/assets/colab-badge.svg\" alt=\"Open In Colab\"/></a>"
      ]
    },
    {
      "cell_type": "code",
      "metadata": {
        "colab": {
          "base_uri": "https://localhost:8080/"
        },
        "id": "WziU3ThGyCq3",
        "outputId": "f3de85b4-bcbd-479c-aa8d-2871acbff8b4"
      },
      "source": [
        "time.sleep(5)\n",
        "print (time.ctime())\n"
      ],
      "execution_count": 5,
      "outputs": [
        {
          "output_type": "stream",
          "text": [
            "Thu Jul 15 06:22:36 2021\n"
          ],
          "name": "stdout"
        }
      ]
    }
  ]
}